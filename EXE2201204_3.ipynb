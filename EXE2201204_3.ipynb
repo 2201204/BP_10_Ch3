{
  "nbformat": 4,
  "nbformat_minor": 0,
  "metadata": {
    "colab": {
      "provenance": [],
      "authorship_tag": "ABX9TyNqM7gr8ssSh89JfKvgL+GP",
      "include_colab_link": true
    },
    "kernelspec": {
      "name": "python3",
      "display_name": "Python 3"
    },
    "language_info": {
      "name": "python"
    }
  },
  "cells": [
    {
      "cell_type": "markdown",
      "metadata": {
        "id": "view-in-github",
        "colab_type": "text"
      },
      "source": [
        "<a href=\"https://colab.research.google.com/github/2201204/BP_10_Ch3/blob/main/EXE2201204_3.ipynb\" target=\"_parent\"><img src=\"https://colab.research.google.com/assets/colab-badge.svg\" alt=\"Open In Colab\"/></a>"
      ]
    },
    {
      "cell_type": "code",
      "execution_count": 1,
      "metadata": {
        "colab": {
          "base_uri": "https://localhost:8080/"
        },
        "id": "tBjdsmf9uvSQ",
        "outputId": "8460d666-dc22-4b6d-a34a-c30f1dae8867"
      },
      "outputs": [
        {
          "output_type": "stream",
          "name": "stdout",
          "text": [
            "x:10\n",
            "y:20\n",
            "두 수의 합:  30\n",
            "두 수의 차:  -10\n",
            "두 수의 곱:  200\n",
            "두 수의 평균:  15.0\n",
            "큰수:  20\n",
            "작은수:  10\n"
          ]
        }
      ],
      "source": [
        "x=int(input(\"x:\"))\n",
        "y=int(input(\"y:\"))\n",
        "print(\"두 수의 합: \",x+y)\n",
        "print(\"두 수의 차: \",x-y)\n",
        "print(\"두 수의 곱: \",x*y)\n",
        "print(\"두 수의 평균: \",(x+y)/2)\n",
        "print(\"큰수: \",max(x,y))\n",
        "print(\"작은수: \",min(x,y))"
      ]
    },
    {
      "cell_type": "code",
      "source": [
        "r=int(input(\"r:\"))\n",
        "h=int(input(\"h:\"))\n",
        "print(\"원기둥의 부피: \",3.141592*r**2*h)"
      ],
      "metadata": {
        "colab": {
          "base_uri": "https://localhost:8080/"
        },
        "id": "g2NHh7rY1lBO",
        "outputId": "f3ddfe59-04ce-4527-e35c-517327a9de45"
      },
      "execution_count": 10,
      "outputs": [
        {
          "output_type": "stream",
          "name": "stdout",
          "text": [
            "r:10\n",
            "h:100\n",
            "원기둥의 부피:  31415.92\n"
          ]
        }
      ]
    },
    {
      "cell_type": "code",
      "source": [
        "r=int(input(\"r=:\"))\n",
        "print(\"자리수의 합: \",(r%10) + ((r//10)%10) + (((r//10)//10)%10) + ((((r//10)//10)//10)%10))"
      ],
      "metadata": {
        "colab": {
          "base_uri": "https://localhost:8080/"
        },
        "id": "V_xKgPzE7wL_",
        "outputId": "d8fad460-7aae-45b6-b06f-3813c8f071b4"
      },
      "execution_count": 20,
      "outputs": [
        {
          "output_type": "stream",
          "name": "stdout",
          "text": [
            "r=:1234\n",
            "자리수의 합:  10\n"
          ]
        }
      ]
    },
    {
      "cell_type": "code",
      "source": [
        "x1=int(input(\"x1:\"))\n",
        "y1=int(input(\"y1:\"))\n",
        "x2=int(input(\"x2:\"))\n",
        "y2=int(input(\"y2:\"))\n",
        "print(\"두 점 사이의 거리:\",(((x1-x2)**2)+((y1-y2)**2))**0.5)\n"
      ],
      "metadata": {
        "colab": {
          "base_uri": "https://localhost:8080/"
        },
        "id": "Wr9XQgq39gTZ",
        "outputId": "fb5225db-8480-427a-d118-c92cff63c9c9"
      },
      "execution_count": 69,
      "outputs": [
        {
          "output_type": "stream",
          "name": "stdout",
          "text": [
            "x1:0\n",
            "y1:0\n",
            "x2:100\n",
            "y2:100\n",
            "두 점 사이의 거리: 141.4213562373095\n"
          ]
        }
      ]
    },
    {
      "cell_type": "code",
      "source": [
        "import time\n",
        "fseconds=time.time()\n",
        "min=int((fseconds//60)%60)\n",
        "ho=int(min//60)+2\n",
        "print(\"현재 시간(영국 그리니치 시각):\",ho,\"시\",min,\"분\")"
      ],
      "metadata": {
        "colab": {
          "base_uri": "https://localhost:8080/"
        },
        "id": "PfL7Ox2eR4wX",
        "outputId": "c3e11071-8bf4-40e8-d0f6-f657051aa3d7"
      },
      "execution_count": 70,
      "outputs": [
        {
          "output_type": "stream",
          "name": "stdout",
          "text": [
            "현재 시간(영국 그리니치 시각): 2 시 38 분\n"
          ]
        }
      ]
    },
    {
      "cell_type": "code",
      "source": [
        "a=int(input(\"물체의 무게를 입력하시오(킬로그램):\"))\n",
        "b=int(input(\"물체의 속도를 입력하시오(미터/초):\"))\n",
        "c=0.5*a*b**2\n",
        "print(\"물체는\",c,\"(줄)의 에너지를 가지고 있다.\")"
      ],
      "metadata": {
        "colab": {
          "base_uri": "https://localhost:8080/"
        },
        "id": "VIjvXYuoS0pi",
        "outputId": "ef7184b3-21ec-46c7-eaa1-3d9fadc97223"
      },
      "execution_count": 71,
      "outputs": [
        {
          "output_type": "stream",
          "name": "stdout",
          "text": [
            "물체의 무게를 입력하시오(킬로그램):10\n",
            "물체의 속도를 입력하시오(미터/초):100\n",
            "물체는 50000.0 (줄)의 에너지를 가지고 있다.\n"
          ]
        }
      ]
    }
  ]
}